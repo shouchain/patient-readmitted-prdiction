{
 "cells": [
  {
   "cell_type": "code",
   "metadata": {
    "tags": [],
    "cell_id": "00000-1f99ae2c-b7ef-4a31-956c-1892808e29ea",
    "output_cleared": false,
    "source_hash": "b779bd39",
    "execution_millis": 1085,
    "execution_start": 1622547119793,
    "deepnote_to_be_reexecuted": false,
    "deepnote_cell_type": "code"
   },
   "source": "#preprocessing\nimport pandas as pd\nimport numpy as np\nimport matplotlib.pyplot as plt\nplt.style.use('ggplot')\nfrom pandas_profiling import ProfileReport\n\n#model\nfrom sklearn.model_selection import train_test_split, cross_val_score, GridSearchCV\nfrom sklearn.preprocessing import LabelEncoder,MinMaxScaler\nfrom sklearn.decomposition import PCA\nfrom sklearn.metrics import accuracy_score, confusion_matrix, plot_confusion_matrix\n\nfrom pycaret.classification import *\n\nfrom xgboost.sklearn import XGBClassifier\nfrom xgboost import plot_importance\nimport xgboost as xgb\nfrom pycaret.classification import *",
   "execution_count": 39,
   "outputs": [
    {
     "name": "stderr",
     "text": "Exception ignored in: <function tqdm.__del__ at 0x7f4e2fd095f0>\nTraceback (most recent call last):\n  File \"/shared-libs/python3.7/py/lib/python3.7/site-packages/tqdm/std.py\", line 1145, in __del__\n    self.close()\n  File \"/shared-libs/python3.7/py/lib/python3.7/site-packages/tqdm/notebook.py\", line 283, in close\n    self.disp(bar_style='danger', check_delay=False)\nAttributeError: 'tqdm' object has no attribute 'disp'\nException ignored in: <function tqdm.__del__ at 0x7f4e2fd095f0>\nTraceback (most recent call last):\n  File \"/shared-libs/python3.7/py/lib/python3.7/site-packages/tqdm/std.py\", line 1145, in __del__\n    self.close()\n  File \"/shared-libs/python3.7/py/lib/python3.7/site-packages/tqdm/notebook.py\", line 283, in close\n    self.disp(bar_style='danger', check_delay=False)\nAttributeError: 'tqdm' object has no attribute 'disp'\n",
     "output_type": "stream"
    }
   ]
  },
  {
   "cell_type": "code",
   "metadata": {
    "tags": [],
    "cell_id": "00002-462ea890-fdbe-4347-ab52-1bb45df9a80a",
    "output_cleared": false,
    "source_hash": "ab608d17",
    "execution_millis": 680,
    "execution_start": 1622547006368,
    "deepnote_to_be_reexecuted": false,
    "deepnote_cell_type": "code"
   },
   "source": "data_o = pd.read_csv('/work/patient-readmitted-prdiction/train_dataset.csv')\ndata_y = pd.read_csv('/work/patient-readmitted-prdiction/train_label.csv')\ntest = pd.read_csv('/work/patient-readmitted-prdiction/test_dataset.csv')\n\ndata = pd.concat([data_o,test])\ndata = data.replace('?', np.nan)\ndata.reset_index(drop=True, inplace= True)",
   "execution_count": 36,
   "outputs": []
  },
  {
   "cell_type": "markdown",
   "source": "### EDA\nDo the Exploring Data Analysis by using \"Pandas Reprot\" ",
   "metadata": {
    "tags": [],
    "cell_id": "00002-c677a6d5-f2f1-46b9-8462-eab521f200cc",
    "deepnote_cell_type": "markdown"
   }
  },
  {
   "cell_type": "code",
   "source": "#profile = ProfileReport(data, title = 'patient_readmitted_prediction')\n#profile.to_file(\"your_report.html\")",
   "metadata": {
    "tags": [],
    "cell_id": "00003-56094230-9627-4708-a6dd-61a5076bde48",
    "deepnote_to_be_reexecuted": false,
    "source_hash": "12b648d5",
    "execution_start": 1622546822944,
    "execution_millis": 4,
    "deepnote_cell_type": "code"
   },
   "outputs": [],
   "execution_count": 33
  },
  {
   "cell_type": "markdown",
   "source": "### FEATURE ENGINEER",
   "metadata": {
    "tags": [],
    "cell_id": "00004-0cde6195-6490-4787-92b2-d24f92589fcd",
    "output_cleared": false,
    "deepnote_cell_type": "markdown"
   }
  },
  {
   "cell_type": "code",
   "metadata": {
    "tags": [],
    "cell_id": "00005-941a2fd6-e684-486b-b4f3-83300227cbb0",
    "output_cleared": false,
    "source_hash": "43bd9a9e",
    "execution_millis": 397,
    "execution_start": 1622546062885,
    "deepnote_to_be_reexecuted": false,
    "deepnote_cell_type": "code"
   },
   "source": "## age, gender, race preprocess, delete weight, payer_code, medical_specialty\ndef basic_agw(data):\n    data_o = data\n\n    ## age --> Label Encoding\n    for i in range(0,10):\n        data_o['age'] = data_o['age'].replace('['+str(10*i)+'-'+str(10*(i+1))+')', i+1)\n\n    ## gender --> delete the unknown gender and label encoding (only 3 of them are NA)\n    fordrop = data_o[data_o['gender'] == 'Unknown/Invalid'].index\n    data_o.drop(index = fordrop, axis = 0, inplace = True)\n    data_o.reset_index(drop = True, inplace = True)\n    data_o['gender'] = data_o['gender'].replace({'Male':1,'Female':0})\n\n    ## weight --> there are 96.8% of data are N/A, so I delete this feature\n    #print('N/A percentage of weight:', data_o['weight'].value_counts()['?']/len(data_o))\n    data_o.drop(['weight','payer_code','medical_specialty'], axis=1, inplace = True)\n\n    ## race -> I couldn't find out the significant difference on readmitted between each races,\n    ##         So i just do the basic one-hot encoding, and only left Caucasian, Afircan American. \n    data_o['race'].fillna('Other', inplace = True)\n    data_o['race'].replace({'Asian':'Other','Hispanic':'Other'}, inplace=True)\n    data_o = data_o.join(pd.get_dummies(data_o.race))\n    data_o.drop(['race','gender'], axis=1 , inplace = True)\n\n    # Service_utilization\n    data_o['service_utilization'] = data_o['number_outpatient'] + data_o['number_emergency'] + data_o['number_inpatient']\n    return data_o\n\n\ndata = basic_agw(data)",
   "execution_count": 3,
   "outputs": []
  },
  {
   "cell_type": "code",
   "metadata": {
    "tags": [],
    "cell_id": "00006-9bc70d1e-0929-4d3d-b205-25e0c36fae1b",
    "output_cleared": false,
    "source_hash": "582ec773",
    "execution_millis": 531,
    "execution_start": 1622546063327,
    "deepnote_to_be_reexecuted": false,
    "deepnote_cell_type": "code"
   },
   "source": "def med_times(data):\n    keys = ['metformin', 'repaglinide', 'nateglinide', 'chlorpropamide', 'glimepiride', 'glipizide', 'glyburide', 'pioglitazone', 'rosiglitazone', 'acarbose', 'miglitol', 'insulin', 'glyburide.metformin', 'tolazamide', 'metformin.pioglitazone','metformin.rosiglitazone', 'glimepiride.pioglitazone', 'glipizide.metformin', 'troglitazone', 'tolbutamide', 'acetohexamide']\n    for col in keys:\n        colname = str(col) + 'temp'\n        data[colname] = data[col].apply(lambda x: 0 if (x == 'No' or x == 'Steady') else 1)\n        data['numchange'] = 0\n\n    for col in keys:\n        colname = str(col) + 'temp'\n        data['numchange'] += data[colname]\n        del data[colname]\n\n    return data\n\ndata = med_times(data)\n    ",
   "execution_count": 4,
   "outputs": []
  },
  {
   "cell_type": "code",
   "metadata": {
    "tags": [],
    "cell_id": "00005-d14c64d1-738e-458e-ae6b-47bbb9ab5a3c",
    "output_cleared": false,
    "source_hash": "1e630e30",
    "execution_millis": 250,
    "is_code_hidden": false,
    "execution_start": 1622546063874,
    "deepnote_to_be_reexecuted": false,
    "deepnote_cell_type": "code"
   },
   "source": "def medstatus(data):\n    data_o = data\n    #A1Cresult, max_glu_serum  -->  adjust to 1,0\n    #A1Cresult --> None, Norm = 0, >7>8 = 1\n    \n    data_o['A1Cresult'] = data_o['A1Cresult'].replace({'None':-10,'Norm':0, '>7':10, '>8':10})\n\n    #max_glu_serum --> None, Norm =>0 , >200, >300 to 1, 0\n    data_o['max_glu_serum'] = data_o['max_glu_serum'].replace({'None':-10,'Norm':0, '>200':10, '>300':10})\n\n    ## delete the columns with toooo many No => \n    ## acetohexamide, tolbutamide, troglitazone, tolazamide, glipizide.metformin, glimepiride.pioglitazone, metformin.rosiglitazone, metformin.pioglitazone]\n\n    tomanyno = ['acetohexamide','tolbutamide','acarbose','miglitol','troglitazone','examide','citoglipton'\n    ,'glipizide.metformin','glimepiride.pioglitazone','metformin.rosiglitazone','metformin.pioglitazone','metformin','repaglinide','nateglinide'\n    ,'chlorpropamide','glimepiride','glipizide','glyburide','pioglitazone','rosiglitazone','tolazamide','glyburide.metformin']\n    data_o.drop(tomanyno, axis=1, inplace = True)\n\n    data_o['insulin'] = data_o['insulin'].replace({'No':0,'Steady':0,'Down':1,'Up':1})\n    data_o['change'] = data_o['change'].replace({'No':0,'Ch':1})\n    data_o['diabetesMed'] = data_o['diabetesMed'].replace({\"Yes\":1,\"No\":0})\n\n    data_o = pd.get_dummies(data_o, columns=['A1Cresult','max_glu_serum'])\n\n    return data_o\n\ndata = medstatus(data)",
   "execution_count": 5,
   "outputs": []
  },
  {
   "cell_type": "code",
   "metadata": {
    "tags": [],
    "cell_id": "00008-27e5a352-912c-4322-8f76-5ed15dc67dd1",
    "output_cleared": false,
    "source_hash": "a7048a67",
    "execution_millis": 57026,
    "is_code_hidden": false,
    "execution_start": 1622546064139,
    "deepnote_to_be_reexecuted": false,
    "deepnote_cell_type": "code"
   },
   "source": "## DIAG series\ndef diag_series(data):\n    data_o = data\n    data_o.fillna('-1', inplace = True)\n    data_o['level1_diag1'] = data_o['diag_1']\n\n    data_o.loc[data_o['diag_1'].str.contains('V'), ['level1_diag1']] = 0\n    data_o.loc[data_o['diag_1'].str.contains('E'), ['level1_diag1']] = 0\n\n    data_o['level1_diag1'] = data_o['level1_diag1'].astype(float)\n\n    for index, row in data_o.iterrows():\n        if (row['level1_diag1'] >= 390 and row['level1_diag1'] < 460) or (np.floor(row['level1_diag1']) == 785):\n            data_o.loc[index, 'level1_diag1'] = 1\n        elif (row['level1_diag1'] >= 460 and row['level1_diag1'] < 520) or (np.floor(row['level1_diag1']) == 786):\n            data_o.loc[index, 'level1_diag1'] = 2\n        elif (row['level1_diag1'] >= 520 and row['level1_diag1'] < 580) or (np.floor(row['level1_diag1']) == 787):\n            data_o.loc[index, 'level1_diag1'] = 3\n        elif (np.floor(row['level1_diag1']) == 250):\n            data_o.loc[index, 'level1_diag1'] = 4\n        elif (row['level1_diag1'] >= 800 and row['level1_diag1'] < 1000):\n            data_o.loc[index, 'level1_diag1'] = 5\n        elif (row['level1_diag1'] >= 710 and row['level1_diag1'] < 740):\n            data_o.loc[index, 'level1_diag1'] = 6\n        elif (row['level1_diag1'] >= 580 and row['level1_diag1'] < 630) or (np.floor(row['level1_diag1']) == 788):\n            data_o.loc[index, 'level1_diag1'] = 7\n        elif (row['level1_diag1'] >= 140 and row['level1_diag1'] < 240):\n            data_o.loc[index, 'level1_diag1'] = 8\n        else:\n            data_o.loc[index, 'level1_diag1'] = 0\n\n\n    data_o.drop(['diag_1','diag_2','diag_3'], axis=1, inplace = True)\n\n    return data_o\n\n\ndata = diag_series(data)",
   "execution_count": 6,
   "outputs": []
  },
  {
   "cell_type": "code",
   "metadata": {
    "tags": [],
    "cell_id": "00008-b814df81-0236-4fb0-823f-31d136642ad7",
    "output_cleared": false,
    "source_hash": "17902567",
    "execution_millis": 31128,
    "execution_start": 1622546121198,
    "deepnote_to_be_reexecuted": false,
    "deepnote_cell_type": "code"
   },
   "source": "# CALCULATE THE PATIENTS\n\ndef manytimes_patients(data):\n    a = data['patient_nbr'].value_counts()\n    biggerthan2 = a[a>=2].index\n    data['duplicates_patient'] = 0\n    for i in range(len(data)):\n        if data['patient_nbr'][i] in biggerthan2:\n            data['duplicates_patient'][i] = 1\n\n    return data\n\ndef manytimes_patients2(data):\n    aa = dict(data['patient_nbr'].value_counts())\n    data['duplicates_patient'] = 0\n    for i in range(len(data)):\n        data['duplicates_patient'][i] = aa[data['patient_nbr'][i]]\n\n    return data\n\n\ndata = manytimes_patients2(data)",
   "execution_count": 7,
   "outputs": [
    {
     "name": "stderr",
     "text": "/shared-libs/python3.7/py-core/lib/python3.7/site-packages/ipykernel_launcher.py:17: SettingWithCopyWarning: \nA value is trying to be set on a copy of a slice from a DataFrame\n\nSee the caveats in the documentation: https://pandas.pydata.org/pandas-docs/stable/user_guide/indexing.html#returning-a-view-versus-a-copy\n",
     "output_type": "stream"
    }
   ]
  },
  {
   "cell_type": "markdown",
   "source": "### TRAINing MODEL",
   "metadata": {
    "tags": [],
    "cell_id": "00010-74f76541-e8be-4b69-a291-42dae050dad2",
    "output_cleared": false,
    "deepnote_cell_type": "markdown"
   }
  },
  {
   "cell_type": "code",
   "metadata": {
    "tags": [],
    "cell_id": "00011-96bdacda-9374-4173-9b29-a9d33ea5022f",
    "output_cleared": false,
    "source_hash": "fa3dd9e7",
    "execution_millis": 201,
    "execution_start": 1622546152329,
    "deepnote_to_be_reexecuted": false,
    "deepnote_cell_type": "code"
   },
   "source": "data = pd.merge(data, data_y, how='left', on='encounter_id')\n\n#MIN_MAX_SCALER\nnum_feature = ['time_in_hospital','num_lab_procedures','num_procedures','num_medications','number_outpatient','number_emergency','number_inpatient','number_diagnoses','numchange','duplicates_patient']\nscaler = MinMaxScaler()\nnum_data = data[num_feature]\ndata[num_feature] = scaler.fit(num_data)\ndata[num_feature] = scaler.transform(num_data)\n\ndata.drop(['encounter_id','patient_nbr'], axis=1, inplace = True)",
   "execution_count": 8,
   "outputs": []
  },
  {
   "cell_type": "code",
   "metadata": {
    "tags": [],
    "cell_id": "00013-670e7ecc-5ce0-4cd6-8191-e333bda8993e",
    "output_cleared": false,
    "source_hash": "fa0e9c6a",
    "execution_millis": 30,
    "execution_start": 1622546152539,
    "deepnote_to_be_reexecuted": false,
    "deepnote_cell_type": "code"
   },
   "source": "X = data.iloc[:71409]\ny = data['readmitted'].iloc[:71409]\nX.drop('readmitted', axis =1, inplace = True)\nX_train, X_test, y_train, y_test = train_test_split(X, y, test_size = 0.2, random_state = 123)",
   "execution_count": 9,
   "outputs": [
    {
     "name": "stderr",
     "text": "/shared-libs/python3.7/py/lib/python3.7/site-packages/pandas/core/frame.py:4315: SettingWithCopyWarning: \nA value is trying to be set on a copy of a slice from a DataFrame\n\nSee the caveats in the documentation: https://pandas.pydata.org/pandas-docs/stable/user_guide/indexing.html#returning-a-view-versus-a-copy\n  errors=errors,\n",
     "output_type": "stream"
    }
   ]
  },
  {
   "cell_type": "code",
   "metadata": {
    "tags": [],
    "cell_id": "00014-4fbf178d-8d81-43c4-94a0-b00c6847d276",
    "output_cleared": false,
    "source_hash": "2feb5c25",
    "execution_millis": 21330,
    "execution_start": 1622546152570,
    "deepnote_to_be_reexecuted": false,
    "deepnote_cell_type": "code"
   },
   "source": "xgboost = XGBClassifier(objective = 'multi:softprob',eval_metric = 'mlogloss', num_class=3 )\nxgboost.fit(X_train, y_train)\npreds = xgboost.predict(X_test)\nprint('Accuracy:', accuracy_score(preds, y_test))",
   "execution_count": 10,
   "outputs": [
    {
     "name": "stderr",
     "text": "/usr/local/lib/python3.7/site-packages/xgboost/sklearn.py:1146: UserWarning: The use of label encoder in XGBClassifier is deprecated and will be removed in a future release. To remove this warning, do the following: 1) Pass option use_label_encoder=False when constructing XGBClassifier object; and 2) Encode your labels (y) as integers starting with 0, i.e. 0, 1, 2, ..., [num_class - 1].\n  warnings.warn(label_encoder_deprecation_msg, UserWarning)\nAccuracy: 0.7009522475843719\n",
     "output_type": "stream"
    }
   ]
  },
  {
   "cell_type": "markdown",
   "source": "### SUBMISSION",
   "metadata": {
    "tags": [],
    "cell_id": "00015-5ba0073e-5e05-4e31-9ea0-a84a09f088a5",
    "output_cleared": false,
    "deepnote_cell_type": "markdown"
   }
  },
  {
   "cell_type": "code",
   "metadata": {
    "tags": [],
    "cell_id": "00017-52e807aa-afd9-42ce-bf85-762dd10e8c76",
    "output_cleared": false,
    "source_hash": "713b3e97",
    "execution_millis": 2,
    "deepnote_to_be_reexecuted": false,
    "execution_start": 1622546173904,
    "deepnote_cell_type": "code"
   },
   "source": "def to_sub(y_test_pred):\n    testt = pd.read_csv('/home/jovyan/work/test_dataset.csv')\n    encounter_id = testt['encounter_id']\n    submission = pd.DataFrame()\n    submission['encounter_id'] = encounter_id\n    submission['readmitted'] = y_test_pred\n    submission.to_csv('submission1.csv', index = False)\n\nto_sub(y_test_pred)",
   "execution_count": 11,
   "outputs": []
  },
  {
   "cell_type": "markdown",
   "source": "<a style='text-decoration:none;line-height:16px;display:flex;color:#5B5B62;padding:10px;justify-content:end;' href='https://deepnote.com?utm_source=created-in-deepnote-cell&projectId=b0119b9f-bb77-485b-97b3-c2bdea5c1634' target=\"_blank\">\n<img alt='Created in deepnote.com' style='display:inline;max-height:16px;margin:0px;margin-right:7.5px;' src='data:image/svg+xml;base64,PD94bWwgdmVyc2lvbj0iMS4wIiBlbmNvZGluZz0iVVRGLTgiPz4KPHN2ZyB3aWR0aD0iODBweCIgaGVpZ2h0PSI4MHB4IiB2aWV3Qm94PSIwIDAgODAgODAiIHZlcnNpb249IjEuMSIgeG1sbnM9Imh0dHA6Ly93d3cudzMub3JnLzIwMDAvc3ZnIiB4bWxuczp4bGluaz0iaHR0cDovL3d3dy53My5vcmcvMTk5OS94bGluayI+CiAgICA8IS0tIEdlbmVyYXRvcjogU2tldGNoIDU0LjEgKDc2NDkwKSAtIGh0dHBzOi8vc2tldGNoYXBwLmNvbSAtLT4KICAgIDx0aXRsZT5Hcm91cCAzPC90aXRsZT4KICAgIDxkZXNjPkNyZWF0ZWQgd2l0aCBTa2V0Y2guPC9kZXNjPgogICAgPGcgaWQ9IkxhbmRpbmciIHN0cm9rZT0ibm9uZSIgc3Ryb2tlLXdpZHRoPSIxIiBmaWxsPSJub25lIiBmaWxsLXJ1bGU9ImV2ZW5vZGQiPgogICAgICAgIDxnIGlkPSJBcnRib2FyZCIgdHJhbnNmb3JtPSJ0cmFuc2xhdGUoLTEyMzUuMDAwMDAwLCAtNzkuMDAwMDAwKSI+CiAgICAgICAgICAgIDxnIGlkPSJHcm91cC0zIiB0cmFuc2Zvcm09InRyYW5zbGF0ZSgxMjM1LjAwMDAwMCwgNzkuMDAwMDAwKSI+CiAgICAgICAgICAgICAgICA8cG9seWdvbiBpZD0iUGF0aC0yMCIgZmlsbD0iIzAyNjVCNCIgcG9pbnRzPSIyLjM3NjIzNzYyIDgwIDM4LjA0NzY2NjcgODAgNTcuODIxNzgyMiA3My44MDU3NTkyIDU3LjgyMTc4MjIgMzIuNzU5MjczOSAzOS4xNDAyMjc4IDMxLjY4MzE2ODMiPjwvcG9seWdvbj4KICAgICAgICAgICAgICAgIDxwYXRoIGQ9Ik0zNS4wMDc3MTgsODAgQzQyLjkwNjIwMDcsNzYuNDU0OTM1OCA0Ny41NjQ5MTY3LDcxLjU0MjI2NzEgNDguOTgzODY2LDY1LjI2MTk5MzkgQzUxLjExMjI4OTksNTUuODQxNTg0MiA0MS42NzcxNzk1LDQ5LjIxMjIyODQgMjUuNjIzOTg0Niw0OS4yMTIyMjg0IEMyNS40ODQ5Mjg5LDQ5LjEyNjg0NDggMjkuODI2MTI5Niw0My4yODM4MjQ4IDM4LjY0NzU4NjksMzEuNjgzMTY4MyBMNzIuODcxMjg3MSwzMi41NTQ0MjUgTDY1LjI4MDk3Myw2Ny42NzYzNDIxIEw1MS4xMTIyODk5LDc3LjM3NjE0NCBMMzUuMDA3NzE4LDgwIFoiIGlkPSJQYXRoLTIyIiBmaWxsPSIjMDAyODY4Ij48L3BhdGg+CiAgICAgICAgICAgICAgICA8cGF0aCBkPSJNMCwzNy43MzA0NDA1IEwyNy4xMTQ1MzcsMC4yNTcxMTE0MzYgQzYyLjM3MTUxMjMsLTEuOTkwNzE3MDEgODAsMTAuNTAwMzkyNyA4MCwzNy43MzA0NDA1IEM4MCw2NC45NjA0ODgyIDY0Ljc3NjUwMzgsNzkuMDUwMzQxNCAzNC4zMjk1MTEzLDgwIEM0Ny4wNTUzNDg5LDc3LjU2NzA4MDggNTMuNDE4MjY3Nyw3MC4zMTM2MTAzIDUzLjQxODI2NzcsNTguMjM5NTg4NSBDNTMuNDE4MjY3Nyw0MC4xMjg1NTU3IDM2LjMwMzk1NDQsMzcuNzMwNDQwNSAyNS4yMjc0MTcsMzcuNzMwNDQwNSBDMTcuODQzMDU4NiwzNy43MzA0NDA1IDkuNDMzOTE5NjYsMzcuNzMwNDQwNSAwLDM3LjczMDQ0MDUgWiIgaWQ9IlBhdGgtMTkiIGZpbGw9IiMzNzkzRUYiPjwvcGF0aD4KICAgICAgICAgICAgPC9nPgogICAgICAgIDwvZz4KICAgIDwvZz4KPC9zdmc+' > </img>\nCreated in <span style='font-weight:600;margin-left:4px;'>Deepnote</span></a>",
   "metadata": {
    "tags": [],
    "created_in_deepnote_cell": true,
    "deepnote_cell_type": "markdown"
   }
  }
 ],
 "nbformat": 4,
 "nbformat_minor": 2,
 "metadata": {
  "orig_nbformat": 2,
  "deepnote_notebook_id": "d717355f-3441-4d9c-b82d-2b918746b09e",
  "deepnote_execution_queue": [],
  "deepnote": {
   "is_reactive": false
  }
 }
}